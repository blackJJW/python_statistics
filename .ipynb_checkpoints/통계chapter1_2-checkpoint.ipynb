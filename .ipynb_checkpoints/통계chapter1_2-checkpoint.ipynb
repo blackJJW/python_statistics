{
 "cells": [
  {
   "cell_type": "markdown",
   "id": "b3b31c87",
   "metadata": {},
   "source": [
    "# 파이썬 통계학\n",
    "- Reference : '파이썬으로 배우는 통계학 교과서' (바바 신야 지음 / 윤웅식 옮김 / 한빛미디어)'\n",
    "***"
   ]
  },
  {
   "cell_type": "markdown",
   "id": "16394e8b",
   "metadata": {},
   "source": [
    "### 1.5 모집단분포 추정\n",
    "- 모집단을 알지 못한다는 전제\n",
    "- 모집단분포를 알고 있다는 것은 있을 수 없음\n",
    "- 모집단분포를 추정하기 위한 학문 -> __추측통계__"
   ]
  },
  {
   "cell_type": "markdown",
   "id": "fb60b939",
   "metadata": {},
   "source": [
    "- 모집단분포와 모집단의 상대도수분포\n",
    "    - 모집단을 얻을 수 있는 방법\n",
    "        - __확률질량함수__, __확률밀도함수__가 자주 이용\n",
    "        - 효율적 추정을 위한 도구"
   ]
  },
  {
   "cell_type": "markdown",
   "id": "790c56c1",
   "metadata": {},
   "source": [
    "### 1.6 확률질량함수와 확률밀도함수\n",
    "- __확률질량함수__ : 데이터를 인수로 전달받아 확률을 계산 결과로 내놓는 함수\n",
    "- __확률밀도__ : 연속형 변수를 다룰 때는 확률 대신 __확률밀도__ 사용\n",
    "    - 확률밀도란, 연속형 변수의 값에 대응하는 '확률'"
   ]
  },
  {
   "cell_type": "markdown",
   "id": "3f7413d7",
   "metadata": {},
   "source": [
    "- 적분과 덧셈의 관계\n",
    "    - 개수가 유한하지 않아 일반적인 덧셈으로 계산할 수 없으므로 적분 사용\n",
    "    - ex) 4에서 5 사이를 적분하는 확률밀도함수를 계산하는 것은 4 이상 5 이하의 모든 변수에 대응하는 확률밀도의 총합과 같은 의미"
   ]
  },
  {
   "cell_type": "markdown",
   "id": "84d67a89",
   "metadata": {},
   "source": [
    "- __확률밀도함수__ : 데이터를 인수로 전달받아 확률밀도를 계산하는 함수\n",
    "    - 확률질량함수, 확률밀도함수 -> 항상 0 이상, 합계가 1"
   ]
  },
  {
   "cell_type": "markdown",
   "id": "0098708d",
   "metadata": {},
   "source": [
    "- __정규분포__ : '계산이 단순하고, 데이터와 잘 대응'하는 확률분포로 정규분포가 자주 사용\n",
    "    - $-\\infty \\sim \\infty$의 실수값을 취한다.\n",
    "    - 평균값 부근의 확률밀도가 크다(평균값 주변에 데이터가 많다.)\n",
    "    - 평균값에서 멀어질수록 확률밀도가 크다.\n",
    "    - 확률밀도의 크기는 평균값을 중심으로 좌우대칭"
   ]
  },
  {
   "cell_type": "markdown",
   "id": "ca70b7bd",
   "metadata": {},
   "source": [
    "- __모수__(확률분포의 매개변수) : 확률분포를 특징짓는 값\n",
    "    - 통계 관찰의 대상이 되는 집단 전체인 모집단의 특징을 나타내는 수치\n",
    "    - 확률분포의 매개변수를 바꾸면 확률분포의 형태가 변함\n",
    "    - __정규분포의 모수__\n",
    "        - 평균(기대값) $\\mu$\n",
    "        - 분산 $\\sigma^2$\n",
    "    - 정규분포의 확률밀도함수는 확률변수가 $x$일 때 $N(x)$\n",
    "    - $N(x)$를 계산하면 확률변수를 사용하는 확률밀도함수를 얻을 수 있음\n",
    "    - 확률분포의 매개변수는 $N(x|\\mu, \\sigma^2)$으로 명시"
   ]
  },
  {
   "cell_type": "markdown",
   "id": "cecd5d6f",
   "metadata": {},
   "source": [
    "- 모집단분포의 추정\n",
    "    1. 분포의 형태를 정한다.\n",
    "    2. 모수(확률분포의 매개변수)를 정한다.\n",
    "    - 모집단분포의 추정 = 분포의 결정 + 모수의 추정\n",
    "    - '모집단분포'를 '정규분포'라 가정 -> '모집단분포 추정'을 '정규분포를 따르는 모수의 추정'이라는 작업으로 바꿀 수 있음."
   ]
  },
  {
   "cell_type": "markdown",
   "id": "27db36ac",
   "metadata": {},
   "source": [
    "- 표본의 통계량을 모수의 추정값이라고 생각\n",
    "    - __모수를 추정하는 간단한 아이디어는 '표본통계를 모집단분포의 모수라고 생각'하는 것__\n",
    "> 예시   \n",
    "> 10마리 물고기의 길이 {2, 3, 3, 4, 4, 4, 4, 5, 5, 6]   \n",
    "> 평균 : 4, 분산 : 1.2    \n",
    "> 표본 통계량을 모집단의 모수라 생각 -> 모집단분포의 평균 4, 분산 1.2   \n",
    "> 확률밀도 -> $N(x|4, 1.2)$   "
   ]
  },
  {
   "cell_type": "markdown",
   "id": "6a5fa2c5",
   "metadata": {},
   "source": [
    "- 추정오차\n",
    "    - 표본의 통계량와 모수에는 조금 차이가 있는 것이 보통\n",
    "    - 추정된 모수에는 추정오차가 있음을 인정\n",
    "    - 모수를 추정할 대는 구간추정 등의 방법 사용\n",
    "    - 추정오차와 상관없이 확률적 의미를 부여하고 싶다면 통계적가설검정 사용"
   ]
  },
  {
   "cell_type": "markdown",
   "id": "c3dc99ba",
   "metadata": {},
   "source": [
    "### 1.7 통계량 계산\n",
    "- 표본\n",
    "> 샘플사이즈 N을 취했을 때  표본   \n",
    "> $\\{x_{i}\\}^{N}_{i=1} = \\{x_{1}, x_{2}, \\dots, x_{N}\\}$"
   ]
  },
  {
   "cell_type": "markdown",
   "id": "d5939b96",
   "metadata": {},
   "source": [
    "- 평균값\n",
    "> 표본의 평균값 $\\mu$   \n",
    "> $\\mu=\\frac{1}{N}\\displaystyle\\sum_{i=1}^{N} x_{i}$   \n",
    "> __산술평균__"
   ]
  },
  {
   "cell_type": "markdown",
   "id": "b6948fe9",
   "metadata": {},
   "source": [
    "- 기댓값\n",
    "> 기댓값 $\\mu$는 '확률 x 그때의 값'의 합계로 계산   \n",
    "> $\\mu=\\displaystyle\\sum_{i=1}^{N} P(x_i)\\cdot x_i$"
   ]
  },
  {
   "cell_type": "markdown",
   "id": "710c91f8",
   "metadata": {},
   "source": [
    "- 모평균과 표본평균\n",
    "    - 모평균 : 모집단의 평균값\n",
    "    - 표본평균 : 표본의 평균값\n",
    "    - 플러스 쪽으로나 마이너스 쪽으로나 표본평균은 모평균에서 크게 떨어지지 않음\n",
    "    - 샘플사이즈를 늘리면 표본평균은 조금씩 모평균에 가까워짐"
   ]
  },
  {
   "cell_type": "markdown",
   "id": "91d0b77e",
   "metadata": {},
   "source": [
    "- 분산(표본분산)\n",
    "> $\\sigma^2=\\frac{1}{N}\\displaystyle\\sum_{i=1}^{N} (x_i - \\mu)^2$   \n",
    "> $(x_i - \\mu)$ -> 편차   \n",
    "> $\\sum (x_i - \\mu)^2$ -> 편차제곱합   \n",
    "> 확률 $P(x_i)$를 사용 -> $\\sigma^2=\\displaystyle\\sum_{i=1}^{N} P(x_i)(x_i - \\mu)^2$   \n",
    "\n",
    "> 기댓값과 데이터가 떨어져 있을 수록 $(x_i - \\mu)^2$이 큰 값이 된다.   \n",
    "> $(x_i - \\mu)^2$은 기댓값과 데이터 간의 거리 -> 분산은 '데이터와 기댓값 간의 거리의 기댓값'\n",
    "> -> __표본분산__"
   ]
  },
  {
   "cell_type": "markdown",
   "id": "07c6beae",
   "metadata": {},
   "source": [
    "- 분산(불편분산)\n",
    "    - 표본분산은 모집단의 분산 -> 모분산에 비해 분산을 과소평과해 버리는 경향 -> 이를 보정하기 위한 것이 __불편분산__\n",
    "> $\\sigma^2=\\frac{1}{N-1}\\displaystyle\\sum_{i=1}^{N} (x_i - \\mu)^2$   \n",
    "> 분모가 N-1이 되어 조금 작아지기 때문에 표본분산보다 살짝 큼"
   ]
  },
  {
   "cell_type": "markdown",
   "id": "0ea58ace",
   "metadata": {},
   "source": [
    "- 표준편차\n",
    "    - 분산에 제곱근을 씌운 것\n",
    "    - 분산은 불편분산을 사용하는 것이 보통, 데이터를 제곱해서 계산\n",
    "    - 표준편차는 Standard Deviation(SD)\n",
    "> $\\sigma=\\sqrt{\\sigma^2}=\\sqrt{\\frac{1}{N-1}\\displaystyle\\sum_{i=1}^{N} (x_i - \\mu)^2}$"
   ]
  },
  {
   "cell_type": "markdown",
   "id": "c1b0b7b8",
   "metadata": {},
   "source": [
    "### 1.8 확률론 기본\n",
    "- 집합 : 객관적으로 범위가 지정된 물거의 모음\n",
    "    - $A = \\{1, 2, 3, 4, 5\\}$   \n",
    "- 요소\n",
    "    - 집합 A , 어떤 물건 a가 A의 요소일때 $a\\in A$라 쓰며, a가 A에 속해 있다.\n",
    "    - 속하지 않을 때는 $b\\notin A$라 씀   \n",
    "- 집합의 2가지 표기 방법\n",
    "    - 조건제시법\n",
    "    > 0 이상 5이하의 정수 집합   \n",
    "    > $A=\\{a;a\\in \\mathbb{Z}\\,그리고\\, 0 \\leq a\\leq5\\}$   \n",
    "    > (;) 또는 (|) 오른쪽이 조건, $\\mathbb{Z}$ -> 정수의 집합"
   ]
  },
  {
   "cell_type": "markdown",
   "id": "aa26599c",
   "metadata": {},
   "source": [
    "- 부분집합\n",
    "    - 2개의 집합 A, B\n",
    "    - $a\\in A$라면 $a\\in B$일 때, A를 B의 부분집합 \n",
    "    - $A\\subset B$\n",
    "    \n",
    "- 벤다이어그램\n",
    "    - 집합 간의 비교"
   ]
  },
  {
   "cell_type": "markdown",
   "id": "04374a1d",
   "metadata": {},
   "source": [
    "- 교집합과 합집합\n",
    "    - 교집합\n",
    "        - $A \\cap B = \\{a;a\\in A\\,그리고\\,a\\in B\\}$\n",
    "    - 합집합\n",
    "        - $A \\cup B = \\{a;a\\in A\\,또는\\,a\\in B\\}$"
   ]
  },
  {
   "cell_type": "markdown",
   "id": "9370c64b",
   "metadata": {},
   "source": [
    "- 차집합\n",
    "    - $A-B=\\{a;a\\in A\\,그리고\\,a\\notin B\\}$\n",
    "    \n",
    "- 공집합\n",
    "    - 요소를 하나도 갖고 있지 않음 모임.\n",
    "    - $\\emptyset$\n",
    "    \n",
    "- 전체집합\n",
    "    - 어떤 집합 S가 있고, 'S의 부분집합만 다룬다'고 한정 시, S를 전체집합이라고 한다.\n",
    "    \n",
    "- 여집합\n",
    "    - 전체집합 S가 정해져 있을 때, S의 부분집합 A에 대해 아래 관계가 성립하는 $A^{C}$를 $A$의 여집합.\n",
    "    - $A^{C} = S - A$"
   ]
  },
  {
   "cell_type": "markdown",
   "id": "8e484713",
   "metadata": {},
   "source": [
    "- 표본점($\\omega$) : 일어날 수 있는 가능한 결과, 요소로 간주\n",
    "- 표본공간($\\Omega$) : 표본점 전체의 집합, 전체집합으로 간주\n",
    "\n",
    "- 표본공간의 부분집합으로서 '사상'이 정의\n",
    "    - 집합처럼 '합사상'이나 '결합사상'이 정의\n",
    "    - 단 1개의 표본점만 있고, 그 이상 분해가 안 되는 사상을 '근원사상'\n",
    "    - 복수의 표본점을 가지고, 2개 이상의 근원 사사응로 분해가 가능한 것을 '복합사상'\n",
    "    - 공집합과 마찬가지안 '공사상'-> 표본점을 가지고 있지 않음\n",
    "    \n",
    "    - 사상이란 *'일어날 수 있는 일* -> '표본공간의 부분집합'이라 정의\n",
    "    \n",
    "> 주사위(1, 2, 3, 4, 5, 6)   \n",
    "> 표본점 : $\\omega_1 = 1,\\, \\omega_2 = 2,\\,\\omega_3 = 3,\\,\\omega_4 = 4,\\,\\omega_5 = 5,\\,\\omega_6 = 6$   \n",
    "> 표본공간 : $\\Omega=\\{1, 2, 3, 4, 5, 6\\}$   \n",
    "> 복합사상 : 짝수가 되는 사상 $A=\\{2, 4, 6\\}$, 홀수가 되는 사상 $A=\\{1, 3, 5\\}$ 등   \n",
    "> 근원사상 : 1의 눈이 나오는 사상 $C=\\{1\\}$, 2의 눈이 나오는 사상 $D=\\{2\\}$"
   ]
  },
  {
   "cell_type": "markdown",
   "id": "8e8b8200",
   "metadata": {},
   "source": [
    "- 배반사상\n",
    "    - $A\\cap B = \\emptyset$이고 사상 간의 겹침이 없을 때 사상 A와 B는 배반사상"
   ]
  },
  {
   "cell_type": "markdown",
   "id": "949af810",
   "metadata": {},
   "source": [
    "- 확률의 공리주의적 정의   \n",
    "    (a) 모든 사상 A에 대해 $0\\leq P(A)\\leq 1$ \n",
    "        - 확률이 0 이상 1이하\n",
    "    (b) $P(\\Omega)$=1   \n",
    "        - 표본공간을 대상으로 하는 경우 그것이 일어날 확률은 1\n",
    "    (c) 배반사상 $A_1, A_2, \\dots 에 대해 P(A_1\\cup A_2\\cup \\cdots)= P(A_1)+P(A_2)+\\cdots$   \n",
    "        - 겹침이 없는 사상 중 하나가 일어날 확률은 사상이 일어날 확률의 합으로 계산 가능"
   ]
  },
  {
   "cell_type": "markdown",
   "id": "40b9571e",
   "metadata": {},
   "source": [
    "- 빈도에 의한 확률 해석\n",
    "    - 빈도주의의 경우 확률을 상대도수의 극한값이라 간주.\n",
    "    - 도수는 사상의 발생 횟수, 상대도수는 '사상의 발생 횟수 / 시행 횟수'"
   ]
  },
  {
   "cell_type": "markdown",
   "id": "107e37f7",
   "metadata": {},
   "source": [
    "- 주관확률\n",
    "    - 개인이 주관적으로 확률을 할당\n",
    "    - 이 경우 베이즈주의(베이지안 확률)"
   ]
  },
  {
   "cell_type": "markdown",
   "id": "7b88dc40",
   "metadata": {},
   "source": [
    "- 확률의 덧셈정리\n",
    "    - 서로 배반사상인 A와 B에 대해 아래의 관계가 성립하는 것을 *확률의 덧셈정리*\n",
    "    - $P(A\\cup B)=P(A)+P(B)$\n",
    "    - 사상 간에 배반이라는 조건을 없앤 경우 확률의 덧셈정리\n",
    "    - $P(A\\cup B)=P(A)+P(B)-P(A\\cap B)$"
   ]
  },
  {
   "cell_type": "markdown",
   "id": "c8cd1cca",
   "metadata": {},
   "source": [
    "- 조건부 확률\n",
    "    - 사상 B가 발생한 조건에서 사상 A가 발생할 확률\n",
    "    - $P(A|B)=\\frac{P(A\\cap B)}{P(B)}$ "
   ]
  },
  {
   "cell_type": "markdown",
   "id": "8b110041",
   "metadata": {},
   "source": [
    "- 확률의 곱셈정리\n",
    "    - $P(A\\cap B)=P(B)\\cdot P(A|B)$\n",
    "\n",
    "- 독립\n",
    "    - $P(A\\cap B)=P(A)\\cdot P(B)$\n",
    "    - 이 조건을 만족하면 A와 B는 독립\n",
    "    - $P(A|B)=P(B)$와 같은 의미"
   ]
  },
  {
   "cell_type": "markdown",
   "id": "eb74588b",
   "metadata": {},
   "source": [
    "### 확률변수와 확률분포\n",
    "- 확률변수와 실현값\n",
    "> 동전 1개, 표본공간 $\\Omega=\\{앞, 뒤\\}$, 앞 = 1, 뒤 = 0   \n",
    "> $X(앞)=1$   \n",
    "> $X(뒤)=0$   \n",
    "> 변수 X를 확률변수, 우측이 실현값   \n",
    "> $P(X=x)$   \n",
    "> 어떤 확률변수가 어떤 실현값이 될 확률   \n",
    "> 정상적인 동전 $P(X=1)=1/2$"
   ]
  },
  {
   "cell_type": "markdown",
   "id": "1a6f9abd",
   "metadata": {},
   "source": [
    "- 이산형 확률분포와 확률질량함수\n",
    "    - 이산형 확률변수 $X$ 각각에 대한 확률 $P(X=x_i)$가 함수 $f(x_i)$를 할당. 다음과 같이 표기\n",
    "        - $P(X=x_i)=f(x_i),\\qquad i=1, 2, \\dots$\n",
    "    - $X$는 이산형 확률분포를 취한다고 하고, 이때의 함수 $f(x_i)$를 확률질량함수\n",
    "    - '값을 지정하면 그 값에 대한 확률을 즉시 계산할 수 있는 함수' -> 확률질량함수\n",
    "    - 확률질량함수는 아래 조건을 만족\n",
    "        - $0\\leq f(x_i),\\qquad i=1, 2,\\dots$   \n",
    "        - $\\displaystyle\\sum_{i=1}^{\\infty} f(x_i)=1$"
   ]
  },
  {
   "cell_type": "markdown",
   "id": "f59ee423",
   "metadata": {},
   "source": [
    "- 확률밀도\n",
    "    - 실숫값을 갖는 변수 X가 $x\\leq X\\leq x+\\Delta x$를 취하는 확률을 생각.\n",
    "    - $\\Delta x\\rightarrow 0$일 때, $P(x)\\cdot\\Delta x$로 확률로 계산할 수 있다면 $P(x)$를 $x$의 확률밀도"
   ]
  },
  {
   "cell_type": "markdown",
   "id": "cf821bc5",
   "metadata": {},
   "source": [
    "- 연속형 확률분포와 확률밀도함수\n",
    "    - 연속형 확률변수 $X$의 값을 인자로 받는 함수 $f(x)$에 대해\n",
    "        - $P(a\\leq X\\leq b)=\\int_a^b f(x)dx$\n",
    "        - $X$는 연속형 확률분포를 가진다고 하고, 이 때의 함수 f(x)를 확률밀도함수\n",
    "        - 연속형 확률변수의 경우 '특정 값이 될 확률'은 0\n",
    "        - '특정 값이 범위에 들어갈 확률'은 확률밀도함수를 적분하여 구함\n",
    "        - 확률밀도함수 f(x)는 아래를 만족\n",
    "            - $0\\leq f(x)$   \n",
    "            - $\\int_{-\\infty}^{\\infty} f(x)dx=1$"
   ]
  },
  {
   "cell_type": "markdown",
   "id": "3cd63826",
   "metadata": {},
   "source": [
    "- 확률의 합계, 확률밀도의 적분\n",
    "> 1마리, 2마리, 3마리 등 물고기를 낚아 올린 수 X를 대상   \n",
    "> 낚은 물고기 마릿수 X가 따르는 확률분포의 확률질량함수 $f(x_i)$라 할 때, $1\\leq x\\leq 3$이 될 확률은 다음과 같음.\n",
    "    - $x_1=1, x_2=2, x_3=3$\n",
    "    - $P(1\\leq x\\leq 3)=\\displaystyle\\sum_{i=1}^{3} f(x_i)$   \n",
    "> 연속형 확률변수인 물고기의 몸길이 Y가 따르는 확률분포의 확률밀도함수 g(y), $1\\leq Y\\leq 3$이 될 확률은 다음과 같음.\n",
    "    - $P(1\\leq Y\\leq 3)=\\int_1^3 g(y)dy$"
   ]
  },
  {
   "cell_type": "markdown",
   "id": "c1ef6bc2",
   "metadata": {},
   "source": [
    "- 적분과 면적의 관계\n",
    "    - 면적을 구하는 구간 n, 짧은 밑변 $\\Delta x$\n",
    "    - i번째 $x_i$, 확률밀도함수 $f(x_i)$\n",
    "    - 직사각형 면적의 합계 = $\\sum_{i=1}^{n}f(x_i)\\times \\Delta x$\n",
    "    \n",
    "    - $n\\rightarrow \\infty$라면, 구간을 무한히 잘게 나누었을 때는 위 덧셈을 적분\n",
    "    - $\\lim_{x\\to \\infty}\\left[\\displaystyle\\sum_{i=1}^{n}f(x_i)\\times\\Delta x\\right]=\\int_a^b f(x)dx$"
   ]
  },
  {
   "cell_type": "markdown",
   "id": "27931ca9",
   "metadata": {},
   "source": [
    "- 정규분포의 확률밀도함수   \n",
    "    - $N(x|\\mu,\\sigma^2)=\\frac{1}{\\sqrt{2 \\pi \\sigma^2}e^{\\{\\frac{-(x-\\mu)^2}{2\\sigma^2}\\}}$ "
   ]
  },
  {
   "cell_type": "code",
   "execution_count": null,
   "id": "c1ea8259",
   "metadata": {},
   "outputs": [],
   "source": []
  }
 ],
 "metadata": {
  "kernelspec": {
   "display_name": "Python 3 (ipykernel)",
   "language": "python",
   "name": "python3"
  },
  "language_info": {
   "codemirror_mode": {
    "name": "ipython",
    "version": 3
   },
   "file_extension": ".py",
   "mimetype": "text/x-python",
   "name": "python",
   "nbconvert_exporter": "python",
   "pygments_lexer": "ipython3",
   "version": "3.9.7"
  }
 },
 "nbformat": 4,
 "nbformat_minor": 5
}
