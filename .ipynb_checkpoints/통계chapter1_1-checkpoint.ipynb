{
 "cells": [
  {
   "cell_type": "markdown",
   "id": "fdc542f4",
   "metadata": {},
   "source": [
    "# 파이썬 통계학\n",
    "- Reference : '파이썬으로 배우는 통계학 교과서' (바바 신야 지음 / 윤웅식 옮김 / 한빛미디어)'\n",
    "***"
   ]
  },
  {
   "cell_type": "markdown",
   "id": "2257b46f",
   "metadata": {},
   "source": [
    "## Chapter 1 - 통계학 기본"
   ]
  },
  {
   "cell_type": "markdown",
   "id": "b73d7f2c",
   "metadata": {},
   "source": [
    "### 1.1 통계학\n",
    "- 통계학의 목적(1) : 가지고 있는 데이터의 설명\n",
    "    - 가지고 있는 데이터를 정리 요약하기 위해 사용되는 통계학 : __기술통계__\n",
    "- 통계학의 목적(2) : 모르는 데이터의 예측과 추측\n",
    "    - 가지고 있지 않은 미지의 데이터를 추측할 목적으로 사용되는 통계학 : __추측통계__\n",
    "- 통계학을 배우는 이유 : 가지고 있는 데이터를 이용하여 모르는 데이터를 추측할 수 있다."
   ]
  },
  {
   "cell_type": "markdown",
   "id": "c68c06e1",
   "metadata": {},
   "source": [
    "- 표본과 모집단\n",
    "    - __표본__ : 현재 가지고 있는 데이터\n",
    "    - __모집단__ : 아직 가지고 있지 않은 모르는 데이터를 포함한 모든 데이터\n",
    "    - 표본이라는 일부 데이터를 이용, 모집단이라는 전체 데이처를 분석하는 것 -> 추측통계의 목적"
   ]
  },
  {
   "cell_type": "markdown",
   "id": "64ac2298",
   "metadata": {},
   "source": [
    "### 1.2 표본을 얻는 과정\n",
    "- __확률변수__ : 확률적 법칙에 따라서 변화하는 값\n",
    "- __샘플링__ : 모집단에서 표본을 얻는 것\n",
    "- *표본을 확률변수로 간주*"
   ]
  },
  {
   "cell_type": "markdown",
   "id": "ec0f1a66",
   "metadata": {},
   "source": [
    "- __실현값__ : 확률변수의 구체적인 값\n",
    "    - 실현값이라고 부르는 이유는 얻지 못한 데이터가 있다는 것을 명확하게 표현하기 위해\n",
    "- __샘플링(표본추출)__ : 모집단에서 표본을 얻는 것 \n",
    "- __단순 랜덤 샘플링__ : 모집단에서 하나하나 요소를 무작위호 선택하는 방법\n",
    "- __샘플사이즈__ : 표본의 크기나 가지고 이쓴 데이터 수\n",
    "    - ex) 물고기를 1마리 낚아 올렸을 때의 샘플사이즈 = 1\n",
    "    - 일반적으로 샘플사이즈가 크다 또는 작다고 표현"
   ]
  },
  {
   "cell_type": "markdown",
   "id": "088e70fe",
   "metadata": {},
   "source": [
    "- __전수조사__ : 모집단 전체를 조사\n",
    "- __표본조사__ : 모집단의 일부만 조사\n",
    "    - 전수조사가 가능한 경우는 드물며, 표본조사가 보통"
   ]
  },
  {
   "cell_type": "markdown",
   "id": "8ab8176e",
   "metadata": {},
   "source": [
    "### 1.3 표본을 얻는 과정의 추상화"
   ]
  },
  {
   "cell_type": "markdown",
   "id": "1b089514",
   "metadata": {},
   "source": [
    "- __확률__ : P(probability). 어떤 데이터를 얻을 수 있는 확률은 __P__(데이터)라고 표현\n",
    "> ex)호수에서 2cm 물고기가 잡힐 확률 : 20%\n",
    "     - 2cm -> 소수점을 반올림한 값 -> $1.5 \\leq 몸길이 < 2.5$\n",
    "     - 2cm 물고기가 잡힐 확률 : $P(1.5 \\leq 몸길이 < 2.5)=20%$ or $P(1.5 \\leq 몸길이 < 2.5)=1/5$"
   ]
  },
  {
   "cell_type": "markdown",
   "id": "fceaab0c",
   "metadata": {},
   "source": [
    "- __확률분포(분포)__ : 확률변수와 그 값이 나올 수 있는 확률을 대응시켜 표시\n",
    "    - ex) 2, 3, 4, 5, 6cm 물고기사 1마리씩 있는 호수에서 잡을 수 있는 물고기의 몸길이의 확률분포\n",
    "        - $P(1.5 \\leq 몸길이 < 2.5)=1/5$\n",
    "        - $P(2.5 \\leq 몸길이 < 3.5)=1/5$\n",
    "        - $P(3.5 \\leq 몸길이 < 4.5)=1/5$\n",
    "        - $P(4.5 \\leq 몸길이 < 5.5)=1/5$\n",
    "        - $P(5.5 \\leq 몸길이 < 6.5)=1/5$"
   ]
  },
  {
   "cell_type": "markdown",
   "id": "1c0eced0",
   "metadata": {},
   "source": [
    "- 어떤 데이터가 어떤 확률분포에 대응할 때 '**확률분포를 따른다**'고 한다."
   ]
  },
  {
   "cell_type": "markdown",
   "id": "57e6cff5",
   "metadata": {},
   "source": [
    "- __모집단분포__ : 모집단이 따르는 확률분포\n",
    "> 표본을 얻는 과정의 모집단 분포\n",
    "    >1. 아래 모집단에서 단순 랜덤 샘플링으로 표본을 1개 획득\n",
    "        - $1.5 \\leq 몸길이<2.5 : 1마리$\n",
    "        - $2.5 \\leq 몸길이<3.5 : 1마리$\n",
    "        - $3.5 \\leq 몸길이<4.5 : 1마리$\n",
    "        - $4.5 \\leq 몸길이<5.5 : 1마리$\n",
    "        - $5.5 \\leq 몸길이<6.5 : 1마리$\n",
    "    >2. 아래 확률분포를 따르는 확률변수를 1개 획득\n",
    "        - $P(1.5 \\leq 몸길이 < 2.5)=1/5$\n",
    "        - $P(2.5 \\leq 몸길이 < 3.5)=1/5$\n",
    "        - $P(3.5 \\leq 몸길이 < 4.5)=1/5$\n",
    "        - $P(4.5 \\leq 몸길이 < 5.5)=1/5$\n",
    "        - $P(5.5 \\leq 몸길이 < 6.5)=1/5$\n",
    "   \n",
    "    >1. 아래 모집단에서 단순 랜던 샘플링으로 표본을 1개 획득\n",
    "        - 수컷 : 1만 마리\n",
    "        - 암컷 : 1만 마리\n",
    "    >2. 아래 확률분포를 따르는 확률변수를 1개 획득\n",
    "        ${P(수컷), P(암컷)}={1/2, 1/2}\n",
    "   \n",
    "    - 어느 모집단에서 단순 랜덤 샘플링으로 표본을 1개 획득하는 행동을 모집단분포에 따르는 확률변수 1개를 획득하는 것과 같은 것으로 보아도 됨\n",
    "        "
   ]
  },
  {
   "cell_type": "markdown",
   "id": "ce94f32c",
   "metadata": {},
   "source": [
    "- __무한모집단__ : 무한한 크기를 가진 모집단"
   ]
  },
  {
   "cell_type": "markdown",
   "id": "6f8b6b4e",
   "metadata": {},
   "source": [
    "- 정리 : 표본을 얻는 과정\n",
    "    - A : 호수에서 낚시를 해서 3cm 물고기를 낚았다.\n",
    "        - 모집단 : 호수 안 모든 물고기\n",
    "        - 표본 : 낚아 올린 물고기\n",
    "    - B : 모집단에서 샘플링하여 3cm 물고기 표본을 얻었다.\n",
    "        - 단순 샘플링으로 간주\n",
    "        - 표본 -> 확률변수, 모집단은 확률분포를 따름\n",
    "    - C : 모집단분포를 따르는 확률변수로 3cm짜리 물고기라는 데이터를 실현값으로 획득"
   ]
  },
  {
   "cell_type": "markdown",
   "id": "a7833c56",
   "metadata": {},
   "source": [
    "- 항아리 모델\n",
    "    : 항아리에서 공을 꺼내는 행동으로 여러 가지 현상을 표현하는 모델"
   ]
  },
  {
   "cell_type": "markdown",
   "id": "22ba599c",
   "metadata": {},
   "source": [
    "### 1.4 기술통계 기초\n",
    "- __수치형 변수__\n",
    "    - 정량적인 경우 : 수치의 간격이 뜻하는 바가 동일\n",
    "    - 데이터가 정량적일 경우 : 수치형 변수(양적 데이터)\n",
    "    - __이산형 변수__ : 정숫값만 가지는 경우\n",
    "    - __연속형 변수__ : 소수점 이하의 값을 가지며 연속적으로 변화하는 경우"
   ]
  },
  {
   "cell_type": "markdown",
   "id": "e7f24671",
   "metadata": {},
   "source": [
    "- __카테고리형 변수__\n",
    "    - 정량적인 수치로 표현할 수 없는 것\n",
    "    - ex) '잉어', '송사리' -> __명목척도__\n",
    "    - __서열척도__ : ex) '대, 중, 소'와 같이 서열을 가지는 카테고리 "
   ]
  },
  {
   "cell_type": "markdown",
   "id": "557cf9e2",
   "metadata": {},
   "source": [
    "- __계급__과 __계급값__\n",
    "    - 수치형 변수일 때는 값을 몇 개의 범위로 분할하는 경우 -> 이런 분할을 '__계급__'\n",
    "    - '__계급값__' : 계급을 대표하는 값\n",
    "    - 범위 내에서 최댓값과 최솟값의 *중간값*을 계급값"
   ]
  },
  {
   "cell_type": "markdown",
   "id": "4b49875e",
   "metadata": {},
   "source": [
    "- __도수__ : 그 데이터가 나타난 횟수, *빈도*\n",
    "    - ex) 3cm 물고기가 1마리 잡혔다면, 3cm 도수 = 1\n",
    "- __도수분포__ : 계급에 대응하는 도수의 목록\n",
    "    - 물고기의 몸길이 예에서 나오는 다음 '크기와 표본수의 대응표'는 도수분포\n",
    "    - 연속형 변수이므로 계급마다 도수를 구함\n",
    "    \n",
    "        - $1.5 \\leq 몸길이<2.5 : 1마리$\n",
    "        - $2.5 \\leq 몸길이<3.5 : 1마리$\n",
    "        - $3.5 \\leq 몸길이<4.5 : 1마리$\n",
    "        - $4.5 \\leq 몸길이<5.5 : 1마리$\n",
    "        - $5.5 \\leq 몸길이<6.5 : 1마리$\n",
    "\n",
    "        - 수컷 : 1만마리\n",
    "        - 암컷 : 1만마리\n",
    "        \n",
    "- __상대도수__ : 전체를 1로 두었을 때 도수가 차지하는 비율\n",
    "    - 고양이 성별 예에서 수컷의 상대도수 : 1/2, 암컷의 상대도수 : 1/2"
   ]
  },
  {
   "cell_type": "markdown",
   "id": "39546a82",
   "metadata": {},
   "source": [
    "- __누적도수__ : 계급을 작은 것부터 차례대로 정렬, 그 도수의 누적 합계를 구한 것\n",
    "- __누적상대도수__ : 상대도수의 누적값\n",
    "> 도수분포\n",
    "    - $1.5 \\leq 몸길이<2.5 : 1마리$\n",
    "    - $2.5 \\leq 몸길이<3.5 : 2마리$\n",
    "    - $3.5 \\leq 몸길이<4.5 : 4마리$\n",
    "    - $4.5 \\leq 몸길이<5.5 : 2마리$\n",
    "    - $5.5 \\leq 몸길이<6.5 : 1마리$\n",
    "        \n",
    "> 위 도수분포의 누적도수분포  \n",
    "    - $1.5 \\leq 몸길이<2.5 : 1마리$  \n",
    "    - $2.5 \\leq 몸길이<3.5 : 1+2=3마리$  \n",
    "    - $3.5 \\leq 몸길이<4.5 : 1+2+4=7마리$  \n",
    "    - $4.5 \\leq 몸길이<5.5 : 1+2+4+2=9마리$  \n",
    "    - $5.5 \\leq 몸길이<6.5 : 1+2+4+2+1=10마리$  \n",
    "        \n",
    "> 누적상대도수분포  \n",
    "    - $P(1.5 \\leq 몸길이 < 2.5)=1/10$  \n",
    "    - $P(2.5 \\leq 몸길이 < 3.5)=3/10$  \n",
    "    - $P(3.5 \\leq 몸길이 < 4.5)=7/10$  \n",
    "    - $P(4.5 \\leq 몸길이 < 5.5)=9/10$  \n",
    "    - $P(5.5 \\leq 몸길이 < 6.5)=10/10$  "
   ]
  },
  {
   "cell_type": "markdown",
   "id": "fe0ec8f8",
   "metadata": {},
   "source": [
    "- 히스토그램 : 도수분포를 도표로 표현\n",
    "    - 가로축에는 계급, 세로축에는 도수"
   ]
  },
  {
   "cell_type": "code",
   "execution_count": 10,
   "id": "a5e82194",
   "metadata": {},
   "outputs": [
    {
     "data": {
      "image/png": "[encoded data removed]",
      "text/plain": [
       "<Figure size 432x288 with 1 Axes>"
      ]
     },
     "metadata": {
      "needs_background": "light"
     },
     "output_type": "display_data"
    }
   ],
   "source": [
    "import matplotlib.pyplot as plt\n",
    "\n",
    "# 균일분포(uniform)\n",
    "length = ['2', '3', '4', '5', '6']\n",
    "count = [1, 1, 1, 1, 1]\n",
    "\n",
    "plt.bar(length, count, alpha=0.5)\n",
    "plt.show()"
   ]
  },
  {
   "cell_type": "code",
   "execution_count": 11,
   "id": "f6e48f4d",
   "metadata": {},
   "outputs": [
    {
     "data": {
      "image/png": "[encoded data removed]",
      "text/plain": [
       "<Figure size 432x288 with 1 Axes>"
      ]
     },
     "metadata": {
      "needs_background": "light"
     },
     "output_type": "display_data"
    }
   ],
   "source": [
    "# 정규분포\n",
    "length = ['2', '3', '4', '5', '6']\n",
    "count_1 = [1, 2, 4, 2, 1]\n",
    "\n",
    "plt.bar(length, count_1, alpha=0.5)\n",
    "plt.show()"
   ]
  },
  {
   "cell_type": "markdown",
   "id": "64902ad0",
   "metadata": {},
   "source": [
    "- __통계량__ : 데이터를 집계한 값"
   ]
  },
  {
   "cell_type": "markdown",
   "id": "0f8e7817",
   "metadata": {},
   "source": [
    "- __평균값__ : 통계량 중 제일 많이 사용\n",
    "    - mean : 평균, median : 중간값\n",
    "    - 평균값 :  '가지고 있는 데이터(표본)을 대표하는 값' -> 대푯값\n",
    "    - 많은 데이터를 축약해서 이해하기 쉽게 하고, 적은 수의 대표적 수치만을 다룸"
   ]
  },
  {
   "cell_type": "markdown",
   "id": "ea49a0cf",
   "metadata": {},
   "source": [
    "- 기댓값 : 평균값을 때때로 기댓값으로 부름.\n",
    "    - '아직 얻지 못한 모르는 데이터에도 적용 가능한 평균값'\n",
    "    - 평균값이나 기대값의 기호 $\\mu$ , $E(x)$\n",
    "    - ex) 호수에서 물고기 10마리 잡음.\n",
    "        - 평균길이 4cm\n",
    "        - 다음 날 획득할 수 있는 데이터의 평균값을 알고 싶을 경우 사용하는 것이 기댓값\n",
    "    - $기댓값 = 확률\\times값$\n",
    "> - 물고기의 몸길이의 확률분포  \n",
    "    $\\quad \\{2cm, 3cm, 4cm, 5cm, 6cm\\}$   \n",
    "    $=\\{1/5, 1/5, 1/5, 1/5, 1/5\\}$   \n",
    "> - 물고기 크기에 대한 기댓값   \n",
    "    $\\mu = (\\frac{1}{5}\\times 2)+(\\frac{1}{5}\\times 3)+(\\frac{1}{5}\\times 4)+(\\frac{1}{5}\\times 5)+(\\frac{1}{5}\\times 6)$   \n",
    "    $= 4$\n",
    "    \n",
    "    - 데이터를 손에 넣지 못했다고 해도 확률분포를 알고 있다면 기댓값 계산 가능\n",
    "    - 기댓값을 __예측값__으로 사용하는 경우가 있음\n",
    "    - 기댓값의 정의상(표본만 본다면) 평균값과 기댓값은 완전히 똑같음."
   ]
  },
  {
   "cell_type": "markdown",
   "id": "5fa4f71a",
   "metadata": {},
   "source": [
    "- 분산 : '데이터가 평균값(기댓값)과 얼마나 떨어져 있느냐'를 표시하는 지표\n",
    "    - 평균값(기댓값)에 가깝게 데이터가 모여 있으면 분산은 작아짐.\n",
    "    - 멀리 떨여져 있으면 분산은 커짐.\n",
    "    - 기호 : $\\sigma^2$\n",
    "    \n",
    "***"
   ]
  }
 ],
 "metadata": {
  "kernelspec": {
   "display_name": "Python 3 (ipykernel)",
   "language": "python",
   "name": "python3"
  },
  "language_info": {
   "codemirror_mode": {
    "name": "ipython",
    "version": 3
   },
   "file_extension": ".py",
   "mimetype": "text/x-python",
   "name": "python",
   "nbconvert_exporter": "python",
   "pygments_lexer": "ipython3",
   "version": "3.9.7"
  }
 },
 "nbformat": 4,
 "nbformat_minor": 5
}
